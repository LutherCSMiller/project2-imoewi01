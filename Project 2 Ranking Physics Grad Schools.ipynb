{
 "cells": [
  {
   "cell_type": "code",
   "execution_count": 109,
   "metadata": {
    "collapsed": false
   },
   "outputs": [],
   "source": [
    "import plotly.plotly as py\n",
    "import plotly.graph_objs as go\n",
    "import pandas as pd\n",
    "import matplotlib.pyplot as plt\n",
    "from IPython.display import Image\n",
    "plt.style.use('ggplot')\n",
    "%matplotlib inline"
   ]
  },
  {
   "cell_type": "code",
   "execution_count": 110,
   "metadata": {
    "collapsed": true
   },
   "outputs": [],
   "source": [
    "import plotly.tools as tls\n",
    "tls.set_credentials_file(username='imoewi01', api_key='b8qvv6pv20')"
   ]
  },
  {
   "cell_type": "code",
   "execution_count": 111,
   "metadata": {
    "collapsed": false
   },
   "outputs": [],
   "source": [
    "# Data downloaded from gradschoolshopper.com\n",
    "acceptance = pd.read_excel(\"AcceptanceRates.xlsx\")\n",
    "deadlines = pd.read_excel(\"AppDeadlines.xlsx\")\n",
    "location = pd.read_excel(\"DepartmentLocation.xlsx\")\n",
    "research = pd.read_excel(\"DepartmentResearchParticle.xlsx\")\n",
    "size = pd.read_excel(\"DepartmentSize.xlsx\")\n",
    "aid = pd.read_excel(\"FinancialAid.xlsx\")\n",
    "gre = pd.read_excel(\"GRERequirements.xlsx\")\n",
    "budget = pd.read_excel(\"ResearchBudget.xlsx\")\n",
    "df_list = [deadlines, location, size, aid, gre, budget]# research]"
   ]
  },
  {
   "cell_type": "markdown",
   "metadata": {},
   "source": [
    "Merge all the data frames"
   ]
  },
  {
   "cell_type": "code",
   "execution_count": 112,
   "metadata": {
    "collapsed": false
   },
   "outputs": [],
   "source": [
    "composite = acceptance\n",
    "for dataframe in df_list:\n",
    "    composite = pd.merge(composite, dataframe, left_on=['School name','Department'], right_on = ['School name', 'Department'])"
   ]
  },
  {
   "cell_type": "code",
   "execution_count": 113,
   "metadata": {
    "collapsed": false
   },
   "outputs": [],
   "source": [
    "composite = pd.merge(composite, research, left_on='School name', right_on='School name')"
   ]
  },
  {
   "cell_type": "code",
   "execution_count": 114,
   "metadata": {
    "collapsed": false
   },
   "outputs": [],
   "source": [
    "composite = composite.fillna(1)"
   ]
  },
  {
   "cell_type": "code",
   "execution_count": 115,
   "metadata": {
    "collapsed": false
   },
   "outputs": [],
   "source": [
    "composite = composite[composite['Department'] == 'Physics'].append(composite[composite['Department'] == 'Physics & Astronomy']).append(composite[composite['Department']== 'Physics and Astronomy'])"
   ]
  },
  {
   "cell_type": "markdown",
   "metadata": {},
   "source": [
    "Delete useless columns"
   ]
  },
  {
   "cell_type": "code",
   "execution_count": 116,
   "metadata": {
    "collapsed": false
   },
   "outputs": [],
   "source": [
    "del composite['Research outside department budget ($)']\n",
    "del composite['Research type']\n",
    "del composite['Total full-time equivalent positions']\n",
    "del composite['Total first-year female graduate students']\n",
    "del composite['Total first-year graduate students']\n",
    "del composite['Department']\n",
    "del composite['Receive partial waivers']\n",
    "del composite['Total research budget ($)']\n",
    "del composite['Departmental research']"
   ]
  },
  {
   "cell_type": "code",
   "execution_count": 117,
   "metadata": {
    "collapsed": false
   },
   "outputs": [],
   "source": [
    "composite = composite.drop_duplicates('School name')"
   ]
  },
  {
   "cell_type": "markdown",
   "metadata": {
    "collapsed": false
   },
   "source": [
    "# Lets set up a golf style score for the schools\n",
    "1. 1 - number applied/max applied. Favors schools with higher number of applicants.\n",
    "2. 1 - num full time grad students / max students. All grad students should be full time.\n",
    "3. Acceptance rate. More exclusive schools are favored.\n",
    "4. Matriculation rate. The best universities should have around 100% of the students accepted attend.\n",
    "5. Calculate a per capita departmental research budget and calculate 1 - it/max(all schools). Favors schools with large research budgets relative to the number of students they have.\n",
    "6. 1 - % receiving tuition waivers at the school. In physics all grad students should have tuition waived for PhD's.\n",
    "7. 1 - number faculty / max(number faculty). Favors schools with more faculty members.\n",
    "8. 1 - GRE Score / max(GRE Score). Favors schools with higher GRE requirements."
   ]
  },
  {
   "cell_type": "code",
   "execution_count": 118,
   "metadata": {
    "collapsed": false
   },
   "outputs": [],
   "source": [
    "composite['AppScore'] = 1-composite['Number applied']/max(composite['Number applied'])"
   ]
  },
  {
   "cell_type": "code",
   "execution_count": 119,
   "metadata": {
    "collapsed": false
   },
   "outputs": [],
   "source": [
    "composite['StudentsScore'] = 1- composite['Total full-time graduate students']/max(composite['Total full-time graduate students'])"
   ]
  },
  {
   "cell_type": "code",
   "execution_count": 120,
   "metadata": {
    "collapsed": false
   },
   "outputs": [],
   "source": [
    "composite['MatriculationScore'] = (1- composite['Number enrolled'] / composite['Number admitted'])"
   ]
  },
  {
   "cell_type": "code",
   "execution_count": 121,
   "metadata": {
    "collapsed": false
   },
   "outputs": [],
   "source": [
    "composite['PerCapitaBudget'] = composite['Departmental research budget ($)'].divide(composite['Total full-time graduate students'])"
   ]
  },
  {
   "cell_type": "code",
   "execution_count": 122,
   "metadata": {
    "collapsed": false
   },
   "outputs": [],
   "source": [
    "composite['PerCapitaScore'] = 1 - composite['PerCapitaBudget']/max(composite['PerCapitaBudget'])"
   ]
  },
  {
   "cell_type": "code",
   "execution_count": 123,
   "metadata": {
    "collapsed": false
   },
   "outputs": [],
   "source": [
    "composite['TuitionScore'] = 1 - composite['Receive full tuition waivers']/composite['Number enrolled']"
   ]
  },
  {
   "cell_type": "code",
   "execution_count": 124,
   "metadata": {
    "collapsed": true
   },
   "outputs": [],
   "source": [
    "composite['FacultyScore'] = 1 - composite['Total full-time faculty']/max(composite['Total full-time faculty'])"
   ]
  },
  {
   "cell_type": "code",
   "execution_count": 125,
   "metadata": {
    "collapsed": false
   },
   "outputs": [],
   "source": [
    "composite['GREScore'] = 1 - composite['Minimum GRE Physics']/max(composite['Minimum GRE Physics'])"
   ]
  },
  {
   "cell_type": "code",
   "execution_count": 126,
   "metadata": {
    "collapsed": false
   },
   "outputs": [],
   "source": [
    "final = composite[['School name', 'State']]"
   ]
  },
  {
   "cell_type": "code",
   "execution_count": 127,
   "metadata": {
    "collapsed": false
   },
   "outputs": [
    {
     "name": "stderr",
     "output_type": "stream",
     "text": [
      "/usr/local/lib/python3.5/site-packages/ipykernel/__main__.py:1: SettingWithCopyWarning:\n",
      "\n",
      "\n",
      "A value is trying to be set on a copy of a slice from a DataFrame.\n",
      "Try using .loc[row_indexer,col_indexer] = value instead\n",
      "\n",
      "See the caveats in the documentation: http://pandas.pydata.org/pandas-docs/stable/indexing.html#indexing-view-versus-copy\n",
      "\n"
     ]
    }
   ],
   "source": [
    "final['Score'] = composite['AppScore'] + composite['StudentsScore'] + composite['MatriculationScore'] + composite['PerCapitaScore'] + composite['TuitionScore'] + composite['FacultyScore'] + composite['GREScore']"
   ]
  },
  {
   "cell_type": "code",
   "execution_count": 133,
   "metadata": {
    "collapsed": false
   },
   "outputs": [
    {
     "data": {
      "text/html": [
       "<div>\n",
       "<table border=\"1\" class=\"dataframe\">\n",
       "  <thead>\n",
       "    <tr style=\"text-align: right;\">\n",
       "      <th></th>\n",
       "      <th>School name</th>\n",
       "      <th>State</th>\n",
       "      <th>Score</th>\n",
       "      <th>Rank</th>\n",
       "    </tr>\n",
       "  </thead>\n",
       "  <tbody>\n",
       "    <tr>\n",
       "      <th>0</th>\n",
       "      <td>Massachusetts Institute of Technology</td>\n",
       "      <td>MA</td>\n",
       "      <td>1.531781</td>\n",
       "      <td>1</td>\n",
       "    </tr>\n",
       "    <tr>\n",
       "      <th>1</th>\n",
       "      <td>University of California, Berkeley</td>\n",
       "      <td>CA</td>\n",
       "      <td>1.766678</td>\n",
       "      <td>2</td>\n",
       "    </tr>\n",
       "    <tr>\n",
       "      <th>2</th>\n",
       "      <td>University of Illinois, Urbana-Champaign</td>\n",
       "      <td>IL</td>\n",
       "      <td>2.574272</td>\n",
       "      <td>3</td>\n",
       "    </tr>\n",
       "    <tr>\n",
       "      <th>3</th>\n",
       "      <td>University of California, Santa Barbara</td>\n",
       "      <td>CA</td>\n",
       "      <td>2.834246</td>\n",
       "      <td>4</td>\n",
       "    </tr>\n",
       "    <tr>\n",
       "      <th>4</th>\n",
       "      <td>University of Colorado, Boulder</td>\n",
       "      <td>CO</td>\n",
       "      <td>2.900550</td>\n",
       "      <td>5</td>\n",
       "    </tr>\n",
       "    <tr>\n",
       "      <th>5</th>\n",
       "      <td>Boston University</td>\n",
       "      <td>MA</td>\n",
       "      <td>3.009941</td>\n",
       "      <td>6</td>\n",
       "    </tr>\n",
       "    <tr>\n",
       "      <th>6</th>\n",
       "      <td>Harvard University</td>\n",
       "      <td>MA</td>\n",
       "      <td>3.176658</td>\n",
       "      <td>7</td>\n",
       "    </tr>\n",
       "    <tr>\n",
       "      <th>7</th>\n",
       "      <td>University of California, Los Angeles</td>\n",
       "      <td>CA</td>\n",
       "      <td>3.197063</td>\n",
       "      <td>8</td>\n",
       "    </tr>\n",
       "    <tr>\n",
       "      <th>8</th>\n",
       "      <td>University of Texas at Austin</td>\n",
       "      <td>TX</td>\n",
       "      <td>3.268353</td>\n",
       "      <td>9</td>\n",
       "    </tr>\n",
       "    <tr>\n",
       "      <th>9</th>\n",
       "      <td>Rutgers University, New Brunswick</td>\n",
       "      <td>NJ</td>\n",
       "      <td>3.374559</td>\n",
       "      <td>10</td>\n",
       "    </tr>\n",
       "    <tr>\n",
       "      <th>10</th>\n",
       "      <td>University of Notre Dame</td>\n",
       "      <td>IN</td>\n",
       "      <td>3.439703</td>\n",
       "      <td>11</td>\n",
       "    </tr>\n",
       "    <tr>\n",
       "      <th>11</th>\n",
       "      <td>State University of New York (SUNY), Stony Brook</td>\n",
       "      <td>NY</td>\n",
       "      <td>3.441229</td>\n",
       "      <td>12</td>\n",
       "    </tr>\n",
       "    <tr>\n",
       "      <th>12</th>\n",
       "      <td>University of Washington</td>\n",
       "      <td>WA</td>\n",
       "      <td>3.461850</td>\n",
       "      <td>13</td>\n",
       "    </tr>\n",
       "    <tr>\n",
       "      <th>13</th>\n",
       "      <td>Stanford University</td>\n",
       "      <td>CA</td>\n",
       "      <td>3.473755</td>\n",
       "      <td>14</td>\n",
       "    </tr>\n",
       "    <tr>\n",
       "      <th>14</th>\n",
       "      <td>University of Wisconsin, Madison</td>\n",
       "      <td>WI</td>\n",
       "      <td>3.583971</td>\n",
       "      <td>15</td>\n",
       "    </tr>\n",
       "    <tr>\n",
       "      <th>15</th>\n",
       "      <td>Northwestern University</td>\n",
       "      <td>IL</td>\n",
       "      <td>3.607047</td>\n",
       "      <td>16</td>\n",
       "    </tr>\n",
       "    <tr>\n",
       "      <th>16</th>\n",
       "      <td>University of California, Davis</td>\n",
       "      <td>CA</td>\n",
       "      <td>3.652280</td>\n",
       "      <td>17</td>\n",
       "    </tr>\n",
       "    <tr>\n",
       "      <th>17</th>\n",
       "      <td>Ohio State University</td>\n",
       "      <td>OH</td>\n",
       "      <td>3.656073</td>\n",
       "      <td>18</td>\n",
       "    </tr>\n",
       "    <tr>\n",
       "      <th>18</th>\n",
       "      <td>University of Oklahoma</td>\n",
       "      <td>OK</td>\n",
       "      <td>3.770378</td>\n",
       "      <td>19</td>\n",
       "    </tr>\n",
       "    <tr>\n",
       "      <th>19</th>\n",
       "      <td>Pennsylvania State University</td>\n",
       "      <td>PA</td>\n",
       "      <td>3.788777</td>\n",
       "      <td>20</td>\n",
       "    </tr>\n",
       "    <tr>\n",
       "      <th>20</th>\n",
       "      <td>University of Florida</td>\n",
       "      <td>FL</td>\n",
       "      <td>3.791934</td>\n",
       "      <td>21</td>\n",
       "    </tr>\n",
       "    <tr>\n",
       "      <th>21</th>\n",
       "      <td>Louisiana State University</td>\n",
       "      <td>LA</td>\n",
       "      <td>3.922755</td>\n",
       "      <td>22</td>\n",
       "    </tr>\n",
       "    <tr>\n",
       "      <th>22</th>\n",
       "      <td>Florida State University</td>\n",
       "      <td>FL</td>\n",
       "      <td>4.015057</td>\n",
       "      <td>23</td>\n",
       "    </tr>\n",
       "    <tr>\n",
       "      <th>23</th>\n",
       "      <td>University of Pittsburgh</td>\n",
       "      <td>PA</td>\n",
       "      <td>4.164910</td>\n",
       "      <td>24</td>\n",
       "    </tr>\n",
       "    <tr>\n",
       "      <th>24</th>\n",
       "      <td>Case Western Reserve University</td>\n",
       "      <td>OH</td>\n",
       "      <td>4.192345</td>\n",
       "      <td>25</td>\n",
       "    </tr>\n",
       "    <tr>\n",
       "      <th>25</th>\n",
       "      <td>Indiana University, Bloomington</td>\n",
       "      <td>IN</td>\n",
       "      <td>4.192391</td>\n",
       "      <td>26</td>\n",
       "    </tr>\n",
       "    <tr>\n",
       "      <th>26</th>\n",
       "      <td>University of Iowa</td>\n",
       "      <td>IA</td>\n",
       "      <td>4.206949</td>\n",
       "      <td>27</td>\n",
       "    </tr>\n",
       "    <tr>\n",
       "      <th>27</th>\n",
       "      <td>University of California, Riverside</td>\n",
       "      <td>CA</td>\n",
       "      <td>4.212246</td>\n",
       "      <td>28</td>\n",
       "    </tr>\n",
       "    <tr>\n",
       "      <th>28</th>\n",
       "      <td>Northeastern University</td>\n",
       "      <td>MA</td>\n",
       "      <td>4.252663</td>\n",
       "      <td>29</td>\n",
       "    </tr>\n",
       "    <tr>\n",
       "      <th>29</th>\n",
       "      <td>University of Nebraska, Lincoln</td>\n",
       "      <td>NE</td>\n",
       "      <td>4.258820</td>\n",
       "      <td>30</td>\n",
       "    </tr>\n",
       "    <tr>\n",
       "      <th>...</th>\n",
       "      <td>...</td>\n",
       "      <td>...</td>\n",
       "      <td>...</td>\n",
       "      <td>...</td>\n",
       "    </tr>\n",
       "    <tr>\n",
       "      <th>44</th>\n",
       "      <td>University of Tennessee, Knoxville</td>\n",
       "      <td>TN</td>\n",
       "      <td>4.597881</td>\n",
       "      <td>45</td>\n",
       "    </tr>\n",
       "    <tr>\n",
       "      <th>45</th>\n",
       "      <td>Baylor University</td>\n",
       "      <td>TX</td>\n",
       "      <td>4.598829</td>\n",
       "      <td>46</td>\n",
       "    </tr>\n",
       "    <tr>\n",
       "      <th>46</th>\n",
       "      <td>Drexel University</td>\n",
       "      <td>PA</td>\n",
       "      <td>4.635551</td>\n",
       "      <td>47</td>\n",
       "    </tr>\n",
       "    <tr>\n",
       "      <th>47</th>\n",
       "      <td>Kansas State University</td>\n",
       "      <td>KS</td>\n",
       "      <td>4.637250</td>\n",
       "      <td>48</td>\n",
       "    </tr>\n",
       "    <tr>\n",
       "      <th>48</th>\n",
       "      <td>University of Oregon</td>\n",
       "      <td>OR</td>\n",
       "      <td>4.646512</td>\n",
       "      <td>49</td>\n",
       "    </tr>\n",
       "    <tr>\n",
       "      <th>49</th>\n",
       "      <td>University of Massachusetts, Amherst</td>\n",
       "      <td>MA</td>\n",
       "      <td>4.675530</td>\n",
       "      <td>50</td>\n",
       "    </tr>\n",
       "    <tr>\n",
       "      <th>50</th>\n",
       "      <td>Columbia University</td>\n",
       "      <td>NY</td>\n",
       "      <td>4.715750</td>\n",
       "      <td>51</td>\n",
       "    </tr>\n",
       "    <tr>\n",
       "      <th>51</th>\n",
       "      <td>College of William and Mary</td>\n",
       "      <td>VA</td>\n",
       "      <td>4.744045</td>\n",
       "      <td>52</td>\n",
       "    </tr>\n",
       "    <tr>\n",
       "      <th>52</th>\n",
       "      <td>Purdue Universty</td>\n",
       "      <td>IN</td>\n",
       "      <td>4.850207</td>\n",
       "      <td>53</td>\n",
       "    </tr>\n",
       "    <tr>\n",
       "      <th>53</th>\n",
       "      <td>Colorado State University</td>\n",
       "      <td>CO</td>\n",
       "      <td>4.856261</td>\n",
       "      <td>54</td>\n",
       "    </tr>\n",
       "    <tr>\n",
       "      <th>54</th>\n",
       "      <td>University of South Carolina</td>\n",
       "      <td>SC</td>\n",
       "      <td>4.859511</td>\n",
       "      <td>55</td>\n",
       "    </tr>\n",
       "    <tr>\n",
       "      <th>55</th>\n",
       "      <td>University of California, Irvine</td>\n",
       "      <td>CA</td>\n",
       "      <td>4.882942</td>\n",
       "      <td>56</td>\n",
       "    </tr>\n",
       "    <tr>\n",
       "      <th>56</th>\n",
       "      <td>Oregon State University</td>\n",
       "      <td>OR</td>\n",
       "      <td>4.884744</td>\n",
       "      <td>57</td>\n",
       "    </tr>\n",
       "    <tr>\n",
       "      <th>57</th>\n",
       "      <td>University of Minnesota, Duluth</td>\n",
       "      <td>MN</td>\n",
       "      <td>4.932671</td>\n",
       "      <td>58</td>\n",
       "    </tr>\n",
       "    <tr>\n",
       "      <th>58</th>\n",
       "      <td>Lehigh University</td>\n",
       "      <td>PA</td>\n",
       "      <td>4.953813</td>\n",
       "      <td>59</td>\n",
       "    </tr>\n",
       "    <tr>\n",
       "      <th>59</th>\n",
       "      <td>University of Cincinnati</td>\n",
       "      <td>OH</td>\n",
       "      <td>4.981980</td>\n",
       "      <td>60</td>\n",
       "    </tr>\n",
       "    <tr>\n",
       "      <th>60</th>\n",
       "      <td>Wayne State University</td>\n",
       "      <td>MI</td>\n",
       "      <td>5.053695</td>\n",
       "      <td>61</td>\n",
       "    </tr>\n",
       "    <tr>\n",
       "      <th>61</th>\n",
       "      <td>University of Pennsylvania</td>\n",
       "      <td>PA</td>\n",
       "      <td>5.258750</td>\n",
       "      <td>62</td>\n",
       "    </tr>\n",
       "    <tr>\n",
       "      <th>62</th>\n",
       "      <td>University of Kansas</td>\n",
       "      <td>KS</td>\n",
       "      <td>5.266215</td>\n",
       "      <td>63</td>\n",
       "    </tr>\n",
       "    <tr>\n",
       "      <th>63</th>\n",
       "      <td>Oakland University</td>\n",
       "      <td>MI</td>\n",
       "      <td>5.298154</td>\n",
       "      <td>64</td>\n",
       "    </tr>\n",
       "    <tr>\n",
       "      <th>64</th>\n",
       "      <td>Southern Connecticut State University</td>\n",
       "      <td>CT</td>\n",
       "      <td>5.300032</td>\n",
       "      <td>65</td>\n",
       "    </tr>\n",
       "    <tr>\n",
       "      <th>65</th>\n",
       "      <td>University of Virginia</td>\n",
       "      <td>VA</td>\n",
       "      <td>5.362074</td>\n",
       "      <td>66</td>\n",
       "    </tr>\n",
       "    <tr>\n",
       "      <th>66</th>\n",
       "      <td>State University of New York (SUNY), Albany</td>\n",
       "      <td>NY</td>\n",
       "      <td>5.421934</td>\n",
       "      <td>67</td>\n",
       "    </tr>\n",
       "    <tr>\n",
       "      <th>67</th>\n",
       "      <td>Texas Tech University</td>\n",
       "      <td>TX</td>\n",
       "      <td>5.427740</td>\n",
       "      <td>68</td>\n",
       "    </tr>\n",
       "    <tr>\n",
       "      <th>68</th>\n",
       "      <td>Brandeis University</td>\n",
       "      <td>MA</td>\n",
       "      <td>5.561544</td>\n",
       "      <td>69</td>\n",
       "    </tr>\n",
       "    <tr>\n",
       "      <th>69</th>\n",
       "      <td>Oklahoma State University</td>\n",
       "      <td>OK</td>\n",
       "      <td>5.604731</td>\n",
       "      <td>70</td>\n",
       "    </tr>\n",
       "    <tr>\n",
       "      <th>70</th>\n",
       "      <td>University of Arizona</td>\n",
       "      <td>AZ</td>\n",
       "      <td>5.653855</td>\n",
       "      <td>71</td>\n",
       "    </tr>\n",
       "    <tr>\n",
       "      <th>71</th>\n",
       "      <td>Ball State University</td>\n",
       "      <td>IN</td>\n",
       "      <td>5.736691</td>\n",
       "      <td>72</td>\n",
       "    </tr>\n",
       "    <tr>\n",
       "      <th>72</th>\n",
       "      <td>Tufts University</td>\n",
       "      <td>MA</td>\n",
       "      <td>5.762606</td>\n",
       "      <td>73</td>\n",
       "    </tr>\n",
       "    <tr>\n",
       "      <th>73</th>\n",
       "      <td>Northern Illinois University</td>\n",
       "      <td>IL</td>\n",
       "      <td>5.797853</td>\n",
       "      <td>74</td>\n",
       "    </tr>\n",
       "  </tbody>\n",
       "</table>\n",
       "<p>74 rows × 4 columns</p>\n",
       "</div>"
      ],
      "text/plain": [
       "                                         School name State     Score  Rank\n",
       "0              Massachusetts Institute of Technology    MA  1.531781     1\n",
       "1                 University of California, Berkeley    CA  1.766678     2\n",
       "2           University of Illinois, Urbana-Champaign    IL  2.574272     3\n",
       "3            University of California, Santa Barbara    CA  2.834246     4\n",
       "4                    University of Colorado, Boulder    CO  2.900550     5\n",
       "5                                  Boston University    MA  3.009941     6\n",
       "6                                 Harvard University    MA  3.176658     7\n",
       "7              University of California, Los Angeles    CA  3.197063     8\n",
       "8                      University of Texas at Austin    TX  3.268353     9\n",
       "9                  Rutgers University, New Brunswick    NJ  3.374559    10\n",
       "10                          University of Notre Dame    IN  3.439703    11\n",
       "11  State University of New York (SUNY), Stony Brook    NY  3.441229    12\n",
       "12                          University of Washington    WA  3.461850    13\n",
       "13                               Stanford University    CA  3.473755    14\n",
       "14                  University of Wisconsin, Madison    WI  3.583971    15\n",
       "15                           Northwestern University    IL  3.607047    16\n",
       "16                   University of California, Davis    CA  3.652280    17\n",
       "17                             Ohio State University    OH  3.656073    18\n",
       "18                            University of Oklahoma    OK  3.770378    19\n",
       "19                     Pennsylvania State University    PA  3.788777    20\n",
       "20                             University of Florida    FL  3.791934    21\n",
       "21                        Louisiana State University    LA  3.922755    22\n",
       "22                          Florida State University    FL  4.015057    23\n",
       "23                          University of Pittsburgh    PA  4.164910    24\n",
       "24                   Case Western Reserve University    OH  4.192345    25\n",
       "25                   Indiana University, Bloomington    IN  4.192391    26\n",
       "26                                University of Iowa    IA  4.206949    27\n",
       "27               University of California, Riverside    CA  4.212246    28\n",
       "28                           Northeastern University    MA  4.252663    29\n",
       "29                   University of Nebraska, Lincoln    NE  4.258820    30\n",
       "..                                               ...   ...       ...   ...\n",
       "44                University of Tennessee, Knoxville    TN  4.597881    45\n",
       "45                                 Baylor University    TX  4.598829    46\n",
       "46                                 Drexel University    PA  4.635551    47\n",
       "47                           Kansas State University    KS  4.637250    48\n",
       "48                              University of Oregon    OR  4.646512    49\n",
       "49              University of Massachusetts, Amherst    MA  4.675530    50\n",
       "50                               Columbia University    NY  4.715750    51\n",
       "51                       College of William and Mary    VA  4.744045    52\n",
       "52                                  Purdue Universty    IN  4.850207    53\n",
       "53                         Colorado State University    CO  4.856261    54\n",
       "54                      University of South Carolina    SC  4.859511    55\n",
       "55                  University of California, Irvine    CA  4.882942    56\n",
       "56                           Oregon State University    OR  4.884744    57\n",
       "57                   University of Minnesota, Duluth    MN  4.932671    58\n",
       "58                                 Lehigh University    PA  4.953813    59\n",
       "59                          University of Cincinnati    OH  4.981980    60\n",
       "60                            Wayne State University    MI  5.053695    61\n",
       "61                        University of Pennsylvania    PA  5.258750    62\n",
       "62                              University of Kansas    KS  5.266215    63\n",
       "63                                Oakland University    MI  5.298154    64\n",
       "64             Southern Connecticut State University    CT  5.300032    65\n",
       "65                            University of Virginia    VA  5.362074    66\n",
       "66       State University of New York (SUNY), Albany    NY  5.421934    67\n",
       "67                             Texas Tech University    TX  5.427740    68\n",
       "68                               Brandeis University    MA  5.561544    69\n",
       "69                         Oklahoma State University    OK  5.604731    70\n",
       "70                             University of Arizona    AZ  5.653855    71\n",
       "71                             Ball State University    IN  5.736691    72\n",
       "72                                  Tufts University    MA  5.762606    73\n",
       "73                      Northern Illinois University    IL  5.797853    74\n",
       "\n",
       "[74 rows x 4 columns]"
      ]
     },
     "execution_count": 133,
     "metadata": {},
     "output_type": "execute_result"
    }
   ],
   "source": [
    "final = final.sort_values('Score')\n",
    "final"
   ]
  },
  {
   "cell_type": "code",
   "execution_count": 134,
   "metadata": {
    "collapsed": false
   },
   "outputs": [],
   "source": [
    "final = final.reset_index()\n",
    "del final['index']\n",
    "final = final.reset_index()\n",
    "final['Rank'] = final['index']+1\n",
    "del final['index']"
   ]
  },
  {
   "cell_type": "code",
   "execution_count": 135,
   "metadata": {
    "collapsed": false
   },
   "outputs": [],
   "source": [
    "grouped1 = final.groupby('State').mean()"
   ]
  },
  {
   "cell_type": "code",
   "execution_count": 136,
   "metadata": {
    "collapsed": false
   },
   "outputs": [],
   "source": [
    "grouped1 = grouped1[['Score']]"
   ]
  },
  {
   "cell_type": "code",
   "execution_count": 137,
   "metadata": {
    "collapsed": false
   },
   "outputs": [
    {
     "data": {
      "text/html": [
       "<div>\n",
       "<table border=\"1\" class=\"dataframe\">\n",
       "  <thead>\n",
       "    <tr style=\"text-align: right;\">\n",
       "      <th></th>\n",
       "      <th>Score</th>\n",
       "    </tr>\n",
       "    <tr>\n",
       "      <th>State</th>\n",
       "      <th></th>\n",
       "    </tr>\n",
       "  </thead>\n",
       "  <tbody>\n",
       "    <tr>\n",
       "      <th>MA</th>\n",
       "      <td>1.531781</td>\n",
       "    </tr>\n",
       "    <tr>\n",
       "      <th>CA</th>\n",
       "      <td>1.766678</td>\n",
       "    </tr>\n",
       "    <tr>\n",
       "      <th>IL</th>\n",
       "      <td>2.574272</td>\n",
       "    </tr>\n",
       "    <tr>\n",
       "      <th>CO</th>\n",
       "      <td>2.900550</td>\n",
       "    </tr>\n",
       "    <tr>\n",
       "      <th>TX</th>\n",
       "      <td>3.268353</td>\n",
       "    </tr>\n",
       "    <tr>\n",
       "      <th>NJ</th>\n",
       "      <td>3.374559</td>\n",
       "    </tr>\n",
       "    <tr>\n",
       "      <th>IN</th>\n",
       "      <td>3.439703</td>\n",
       "    </tr>\n",
       "    <tr>\n",
       "      <th>NY</th>\n",
       "      <td>3.441229</td>\n",
       "    </tr>\n",
       "    <tr>\n",
       "      <th>WA</th>\n",
       "      <td>3.461850</td>\n",
       "    </tr>\n",
       "    <tr>\n",
       "      <th>WI</th>\n",
       "      <td>3.583971</td>\n",
       "    </tr>\n",
       "    <tr>\n",
       "      <th>OH</th>\n",
       "      <td>3.656073</td>\n",
       "    </tr>\n",
       "    <tr>\n",
       "      <th>OK</th>\n",
       "      <td>3.770378</td>\n",
       "    </tr>\n",
       "    <tr>\n",
       "      <th>PA</th>\n",
       "      <td>3.788777</td>\n",
       "    </tr>\n",
       "    <tr>\n",
       "      <th>FL</th>\n",
       "      <td>3.791934</td>\n",
       "    </tr>\n",
       "    <tr>\n",
       "      <th>LA</th>\n",
       "      <td>3.922755</td>\n",
       "    </tr>\n",
       "    <tr>\n",
       "      <th>IA</th>\n",
       "      <td>4.206949</td>\n",
       "    </tr>\n",
       "    <tr>\n",
       "      <th>NE</th>\n",
       "      <td>4.258820</td>\n",
       "    </tr>\n",
       "    <tr>\n",
       "      <th>TN</th>\n",
       "      <td>4.338267</td>\n",
       "    </tr>\n",
       "    <tr>\n",
       "      <th>UT</th>\n",
       "      <td>4.395582</td>\n",
       "    </tr>\n",
       "    <tr>\n",
       "      <th>MS</th>\n",
       "      <td>4.569348</td>\n",
       "    </tr>\n",
       "    <tr>\n",
       "      <th>AL</th>\n",
       "      <td>4.579865</td>\n",
       "    </tr>\n",
       "    <tr>\n",
       "      <th>KS</th>\n",
       "      <td>4.637250</td>\n",
       "    </tr>\n",
       "    <tr>\n",
       "      <th>OR</th>\n",
       "      <td>4.646512</td>\n",
       "    </tr>\n",
       "    <tr>\n",
       "      <th>VA</th>\n",
       "      <td>4.744045</td>\n",
       "    </tr>\n",
       "    <tr>\n",
       "      <th>SC</th>\n",
       "      <td>4.859511</td>\n",
       "    </tr>\n",
       "    <tr>\n",
       "      <th>MN</th>\n",
       "      <td>4.932671</td>\n",
       "    </tr>\n",
       "    <tr>\n",
       "      <th>MI</th>\n",
       "      <td>5.053695</td>\n",
       "    </tr>\n",
       "    <tr>\n",
       "      <th>CT</th>\n",
       "      <td>5.300032</td>\n",
       "    </tr>\n",
       "    <tr>\n",
       "      <th>AZ</th>\n",
       "      <td>5.653855</td>\n",
       "    </tr>\n",
       "  </tbody>\n",
       "</table>\n",
       "</div>"
      ],
      "text/plain": [
       "          Score\n",
       "State          \n",
       "MA     1.531781\n",
       "CA     1.766678\n",
       "IL     2.574272\n",
       "CO     2.900550\n",
       "TX     3.268353\n",
       "NJ     3.374559\n",
       "IN     3.439703\n",
       "NY     3.441229\n",
       "WA     3.461850\n",
       "WI     3.583971\n",
       "OH     3.656073\n",
       "OK     3.770378\n",
       "PA     3.788777\n",
       "FL     3.791934\n",
       "LA     3.922755\n",
       "IA     4.206949\n",
       "NE     4.258820\n",
       "TN     4.338267\n",
       "UT     4.395582\n",
       "MS     4.569348\n",
       "AL     4.579865\n",
       "KS     4.637250\n",
       "OR     4.646512\n",
       "VA     4.744045\n",
       "SC     4.859511\n",
       "MN     4.932671\n",
       "MI     5.053695\n",
       "CT     5.300032\n",
       "AZ     5.653855"
      ]
     },
     "execution_count": 137,
     "metadata": {},
     "output_type": "execute_result"
    }
   ],
   "source": [
    "grouped2 = final.groupby('State').min()\n",
    "grouped2 = grouped2[['Score']]\n",
    "grouped2.sort_values('Score')"
   ]
  },
  {
   "cell_type": "code",
   "execution_count": 138,
   "metadata": {
    "collapsed": false
   },
   "outputs": [],
   "source": [
    "grouped2 = grouped2.sort_values('Score')\n",
    "grouped2= grouped2.reset_index()\n",
    "grouped2 = grouped2.reset_index()\n",
    "grouped2['Ranking'] = grouped2['index']+1\n",
    "del grouped2['index']"
   ]
  },
  {
   "cell_type": "code",
   "execution_count": 139,
   "metadata": {
    "collapsed": false
   },
   "outputs": [],
   "source": [
    "states = [\"AL\", \"AK\", \"AZ\", \"AR\", \"CA\", \"CO\", \"CT\", \"DC\", \"DE\", \"FL\", \"GA\", \n",
    "          \"HI\", \"ID\", \"IL\", \"IN\", \"IA\", \"KS\", \"KY\", \"LA\", \"ME\", \"MD\", \n",
    "          \"MA\", \"MI\", \"MN\", \"MS\", \"MO\", \"MT\", \"NE\", \"NV\", \"NH\", \"NJ\", \n",
    "          \"NM\", \"NY\", \"NC\", \"ND\", \"OH\", \"OK\", \"OR\", \"PA\", \"RI\", \"SC\", \n",
    "          \"SD\", \"TN\", \"TX\", \"UT\", \"VT\", \"VA\", \"WA\", \"WV\", \"WI\", \"WY\"]\n",
    "dictionary = {}\n",
    "for state in states:\n",
    "    dictionary[state] = 40.0"
   ]
  },
  {
   "cell_type": "code",
   "execution_count": 140,
   "metadata": {
    "collapsed": false
   },
   "outputs": [],
   "source": [
    "alist = []\n",
    "for state in grouped2['State']:\n",
    "    alist.append(state)\n",
    "\n",
    "missing = []\n",
    "for state in states:\n",
    "    if state not in alist:\n",
    "        missing.append(state)\n",
    "        \n",
    "final_states_dict = { state: dictionary[state] for state in missing }"
   ]
  },
  {
   "cell_type": "code",
   "execution_count": 141,
   "metadata": {
    "collapsed": false
   },
   "outputs": [],
   "source": [
    "state_frame = pd.DataFrame(list(final_states_dict.items()),columns=['State','Ranking'])"
   ]
  },
  {
   "cell_type": "code",
   "execution_count": 142,
   "metadata": {
    "collapsed": false
   },
   "outputs": [],
   "source": [
    "grouped2 = grouped2.append(state_frame, ignore_index=True)"
   ]
  },
  {
   "cell_type": "code",
   "execution_count": 143,
   "metadata": {
    "collapsed": true
   },
   "outputs": [],
   "source": [
    "scl = [[0, 'rgb(0,230,0)'],[0.2, 'rgb(0,250,150)'],[0.4, 'rgb(0,250,150)'],\\\n",
    "            [0.6, 'rgb(0,250,250)'],[0.8, 'rgb(0,150,250)'],[1.0, 'rgb(250,0,0)']]"
   ]
  },
  {
   "cell_type": "code",
   "execution_count": 144,
   "metadata": {
    "collapsed": false
   },
   "outputs": [],
   "source": [
    "data = [ dict(\n",
    "        type='choropleth',\n",
    "        colorscale = scl,\n",
    "        autocolorscale = False,\n",
    "        locations = grouped2['State'],\n",
    "        z = grouped2['Ranking'].astype(float),\n",
    "        locationmode = 'USA-states',\n",
    "        marker = dict(\n",
    "            line = dict (\n",
    "                color = 'rgb(255,255,255)',\n",
    "                width = 2\n",
    "            )\n",
    "        ),\n",
    "        colorbar = dict(\n",
    "            title = \"Ranking\"\n",
    "        )\n",
    "    ) ]"
   ]
  },
  {
   "cell_type": "code",
   "execution_count": 145,
   "metadata": {
    "collapsed": false
   },
   "outputs": [],
   "source": [
    "layout = dict(\n",
    "        title = 'Plot of Best Schools for Physics in Each State',\n",
    "        geo = dict(\n",
    "            scope='usa',\n",
    "            projection=dict( type='albers usa' ),\n",
    "            showlakes = True,\n",
    "            lakecolor = 'rgb(255, 255, 255)',\n",
    "        ),\n",
    "    )\n",
    "fig = dict( data=data, layout=layout )"
   ]
  },
  {
   "cell_type": "code",
   "execution_count": 146,
   "metadata": {
    "collapsed": false
   },
   "outputs": [],
   "source": [
    "url = py.plot( fig, filename='Best-in-State-Physics')"
   ]
  },
  {
   "cell_type": "markdown",
   "metadata": {},
   "source": [
    "# Final Plot of Results\n",
    "\n",
    "This graph ranks states by the best school in each state according to the ranking system I implemented above. To determine the ranking I used acceptance rates, matriculation rates, GRE scores, funding per grad student, percent of full time students, percent of students with fee waivers, and full time faculty members. The data used to calculate these rankings comes from the gradschoolshopper website, and while this site has an extensive amount of information, some schools do not have all the data used in this model. This is one of the reasons the results here may not agree with true national rankings of the schools. The results were also only calculated for universities that specify particle physics or high energy physics as a research subject on the gradschoolshopper website. Due to this restriction, some states did not have any schools so their rankings have been identically set to 40 and are colored red on the map. Since this project set out to rank only the physics graduate schools that do high energy/particle physics research, setting these states to the same ranking do not affect my results. The results of this project could be improved by using a more extensive data base of graduate school statistics and by retaining all the physics graduate programs regardless of research disciplines. To get a more accurate ranking, the perceived prestige of the school should also be factored into the ranking system and should be given more weight than the other statistics above since perceived prestige is one of the most important factors in graduate students being employed after graduation. "
   ]
  },
  {
   "cell_type": "code",
   "execution_count": 147,
   "metadata": {
    "collapsed": false
   },
   "outputs": [
    {
     "data": {
      "text/html": [
       "<iframe id=\"igraph\" scrolling=\"no\" style=\"border:none;\" seamless=\"seamless\" src=\"https://plot.ly/~imoewi01/2.embed\" height=\"525\" width=\"100%\"></iframe>"
      ],
      "text/plain": [
       "<plotly.tools.PlotlyDisplay object>"
      ]
     },
     "execution_count": 147,
     "metadata": {},
     "output_type": "execute_result"
    }
   ],
   "source": [
    "tls.embed(url)"
   ]
  },
  {
   "cell_type": "code",
   "execution_count": 148,
   "metadata": {
    "collapsed": false
   },
   "outputs": [
    {
     "data": {
      "image/png": "[encoded data removed]",
      "text/plain": [
       "<IPython.core.display.Image object>"
      ]
     },
     "execution_count": 148,
     "metadata": {},
     "output_type": "execute_result"
    }
   ],
   "source": [
    "Image('Graph.png')"
   ]
  },
  {
   "cell_type": "code",
   "execution_count": 149,
   "metadata": {
    "collapsed": true
   },
   "outputs": [],
   "source": [
    "#Lets do it for the average too"
   ]
  },
  {
   "cell_type": "code",
   "execution_count": 150,
   "metadata": {
    "collapsed": false
   },
   "outputs": [],
   "source": [
    "grouped1 = grouped1.sort_values('Score')\n",
    "grouped1 = grouped1.reset_index()\n",
    "grouped1 = grouped1.reset_index()\n",
    "grouped1['Rank'] = grouped1['index']+1\n",
    "del grouped1['index']"
   ]
  },
  {
   "cell_type": "code",
   "execution_count": 151,
   "metadata": {
    "collapsed": true
   },
   "outputs": [],
   "source": [
    "alist = []\n",
    "for state in grouped1['State']:\n",
    "    alist.append(state)\n",
    "\n",
    "missing = []\n",
    "for state in states:\n",
    "    if state not in alist:\n",
    "        missing.append(state)\n",
    "        \n",
    "final_states_dict = { state: dictionary[state] for state in missing }"
   ]
  },
  {
   "cell_type": "code",
   "execution_count": 152,
   "metadata": {
    "collapsed": false
   },
   "outputs": [],
   "source": [
    "state_frame = pd.DataFrame(list(final_states_dict.items()),columns=['State','Ranking'])"
   ]
  },
  {
   "cell_type": "code",
   "execution_count": 153,
   "metadata": {
    "collapsed": false
   },
   "outputs": [],
   "source": [
    "grouped1 = grouped1.append(state_frame, ignore_index=True)"
   ]
  },
  {
   "cell_type": "code",
   "execution_count": 154,
   "metadata": {
    "collapsed": true
   },
   "outputs": [],
   "source": [
    "data2 = [ dict(\n",
    "        type='choropleth',\n",
    "        colorscale = scl,\n",
    "        autocolorscale = False,\n",
    "        locations = grouped1['State'],\n",
    "        z = grouped1['Ranking'].astype(float),\n",
    "        locationmode = 'USA-states',\n",
    "        marker = dict(\n",
    "            line = dict (\n",
    "                color = 'rgb(255,255,255)',\n",
    "                width = 2\n",
    "            )\n",
    "        ),\n",
    "        colorbar = dict(\n",
    "            title = \"Ranking\"\n",
    "        )\n",
    "    ) ]"
   ]
  },
  {
   "cell_type": "code",
   "execution_count": 155,
   "metadata": {
    "collapsed": true
   },
   "outputs": [],
   "source": [
    "layout = dict(\n",
    "        title = 'Plot of Average School Ranking for Physics in Each State',\n",
    "        geo = dict(\n",
    "            scope='usa',\n",
    "            projection=dict( type='albers usa' ),\n",
    "            showlakes = True,\n",
    "            lakecolor = 'rgb(255, 255, 255)',\n",
    "        ),\n",
    "    )\n",
    "fig2 = dict( data=data, layout=layout )\n"
   ]
  },
  {
   "cell_type": "code",
   "execution_count": 156,
   "metadata": {
    "collapsed": false
   },
   "outputs": [],
   "source": [
    "url2 = py.plot(fig2, filename='Average-Ranking-State-Physics' )"
   ]
  },
  {
   "cell_type": "code",
   "execution_count": 157,
   "metadata": {
    "collapsed": false
   },
   "outputs": [
    {
     "data": {
      "text/html": [
       "<iframe id=\"igraph\" scrolling=\"no\" style=\"border:none;\" seamless=\"seamless\" src=\"https://plot.ly/~imoewi01/4.embed\" height=\"525\" width=\"100%\"></iframe>"
      ],
      "text/plain": [
       "<plotly.tools.PlotlyDisplay object>"
      ]
     },
     "execution_count": 157,
     "metadata": {},
     "output_type": "execute_result"
    }
   ],
   "source": [
    "tls.embed(url2)"
   ]
  },
  {
   "cell_type": "code",
   "execution_count": 158,
   "metadata": {
    "collapsed": false
   },
   "outputs": [
    {
     "data": {
      "image/png": "[encoded data removed]",
      "text/plain": [
       "<IPython.core.display.Image object>"
      ]
     },
     "execution_count": 158,
     "metadata": {},
     "output_type": "execute_result"
    }
   ],
   "source": [
    "Image(\"Graph2.png\")"
   ]
  },
  {
   "cell_type": "code",
   "execution_count": null,
   "metadata": {
    "collapsed": true
   },
   "outputs": [],
   "source": []
  },
  {
   "cell_type": "code",
   "execution_count": null,
   "metadata": {
    "collapsed": true
   },
   "outputs": [],
   "source": []
  }
 ],
 "metadata": {
  "kernelspec": {
   "display_name": "Python 3",
   "language": "python",
   "name": "python3"
  },
  "language_info": {
   "codemirror_mode": {
    "name": "ipython",
    "version": 3
   },
   "file_extension": ".py",
   "mimetype": "text/x-python",
   "name": "python",
   "nbconvert_exporter": "python",
   "pygments_lexer": "ipython3",
   "version": "3.5.1"
  }
 },
 "nbformat": 4,
 "nbformat_minor": 1
}
